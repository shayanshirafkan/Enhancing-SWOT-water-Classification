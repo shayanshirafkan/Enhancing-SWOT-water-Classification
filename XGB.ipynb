{
 "cells": [
  {
   "cell_type": "code",
   "execution_count": 7,
   "id": "19ae3314-17ca-4a7f-886d-e7132d8a6db0",
   "metadata": {},
   "outputs": [],
   "source": [
    "import numpy as np\n",
    "import matplotlib.pyplot as plt\n",
    "import scipy.io\n",
    "from skimage.measure import label\n",
    "import skimage\n",
    "import xgboost as xgb\n",
    "from sklearn.model_selection import train_test_split\n",
    "from sklearn.preprocessing import StandardScaler"
   ]
  },
  {
   "cell_type": "code",
   "execution_count": 8,
   "id": "be01dfb0-1dfe-4b9d-9090-37349debf5a4",
   "metadata": {},
   "outputs": [],
   "source": [
    "m1 = scipy.io.loadmat('A.mat')\n",
    "fs = m1['X']"
   ]
  },
  {
   "cell_type": "code",
   "execution_count": 9,
   "id": "057ef34d-cdaf-4718-9853-4edac339da89",
   "metadata": {},
   "outputs": [
    {
     "data": {
      "text/plain": [
       "(23208, 22)"
      ]
     },
     "execution_count": 9,
     "metadata": {},
     "output_type": "execute_result"
    }
   ],
   "source": [
    "fs.shape"
   ]
  },
  {
   "cell_type": "code",
   "execution_count": 10,
   "id": "19fe399d-bd44-49ea-8c78-02ee5daeee25",
   "metadata": {},
   "outputs": [],
   "source": [
    "x=fs[:,3:21]\n",
    "# lat, lon and h are removed from the features\n",
    "y=fs[:,21]"
   ]
  },
  {
   "cell_type": "code",
   "execution_count": 11,
   "id": "31e72bea-d133-4898-a2c2-83317912b841",
   "metadata": {},
   "outputs": [],
   "source": [
    "from sklearn.model_selection import train_test_split\n",
    "X_train, X_test, y_train, y_test = train_test_split(x, y, test_size=0.3)"
   ]
  },
  {
   "cell_type": "code",
   "execution_count": 12,
   "id": "eab968cb-8ca1-441e-aa78-42c796482cea",
   "metadata": {},
   "outputs": [],
   "source": [
    "from sklearn.preprocessing import StandardScaler\n",
    "scaler = StandardScaler()\n",
    "scaler.fit(X_train)\n",
    "X_train = scaler.transform(X_train)\n",
    "X_test = scaler.transform(X_test)\n",
    "x= scaler.transform(x)"
   ]
  },
  {
   "cell_type": "code",
   "execution_count": 13,
   "id": "4c198c26-aa1b-42a6-b325-8dfa8a28a2ae",
   "metadata": {},
   "outputs": [],
   "source": [
    "clf = xgb.XGBClassifier(n_estimators=500, learning_rate=0.55, random_state=0)\n",
    "clf.fit(X_train, np.ravel(y_train))\n",
    "y_pred = clf.predict(X_test)"
   ]
  },
  {
   "cell_type": "code",
   "execution_count": 14,
   "id": "38421938-79b8-44dd-8543-417ee185de6a",
   "metadata": {},
   "outputs": [],
   "source": [
    "from sklearn.metrics import classification_report, confusion_matrix, accuracy_score\n",
    "confusion= confusion_matrix(y_test, y_pred)\n",
    "rep = classification_report(y_test, y_pred,zero_division=np.nan)\n",
    "acc = accuracy_score(y_test, y_pred)"
   ]
  },
  {
   "cell_type": "code",
   "execution_count": 16,
   "id": "6523e12b-d60f-4616-8eb6-da7e0419f497",
   "metadata": {},
   "outputs": [],
   "source": [
    "m1 = scipy.io.loadmat('A5.mat')\n",
    "X = m1['A5']\n",
    "X=X[:,3:21]\n",
    "from sklearn.preprocessing import StandardScaler\n",
    "scaler = StandardScaler()\n",
    "scaler.fit(X)\n",
    "X = scaler.transform(X)\n",
    "Y = clf.predict(X)\n",
    "np.savetxt(\"PD.txt\",Y,delimiter=' ');"
   ]
  },
  {
   "cell_type": "code",
   "execution_count": null,
   "id": "3297d3f2-33d2-425f-a270-1a4e27781a74",
   "metadata": {},
   "outputs": [],
   "source": []
  }
 ],
 "metadata": {
  "kernelspec": {
   "display_name": "Python 3 (ipykernel)",
   "language": "python",
   "name": "python3"
  },
  "language_info": {
   "codemirror_mode": {
    "name": "ipython",
    "version": 3
   },
   "file_extension": ".py",
   "mimetype": "text/x-python",
   "name": "python",
   "nbconvert_exporter": "python",
   "pygments_lexer": "ipython3",
   "version": "3.12.3"
  }
 },
 "nbformat": 4,
 "nbformat_minor": 5
}
